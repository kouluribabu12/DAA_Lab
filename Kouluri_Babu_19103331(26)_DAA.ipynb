{
  "cells": [
    {
      "cell_type": "markdown",
      "metadata": {
        "id": "view-in-github",
        "colab_type": "text"
      },
      "source": [
        "<a href=\"https://colab.research.google.com/github/kouluribabu12/DAA_Lab/blob/main/Kouluri_Babu_19103331(26)_DAA.ipynb\" target=\"_parent\"><img src=\"https://colab.research.google.com/assets/colab-badge.svg\" alt=\"Open In Colab\"/></a>"
      ]
    },
    {
      "cell_type": "markdown",
      "metadata": {
        "id": "dsIZ42qQU6ms"
      },
      "source": [
        "#**Design and Analysis of Algorithms LAB**\n",
        "\n",
        "Submitted by - **Kouluri Babu** (19103331)"
      ]
    },
    {
      "cell_type": "markdown",
      "metadata": {
        "id": "9rd-hWuES6Os"
      },
      "source": [
        "## **MergeSort Algorithm | 14-01-2022 :**"
      ]
    },
    {
      "cell_type": "markdown",
      "metadata": {
        "id": "QIlf3Ly9WbzU"
      },
      "source": [
        "### **Object: Write a program to perform sorting operations by divide and conquer (Merge Sort Algo) Also estimate and simulate the time taken on linear array data structure**"
      ]
    },
    {
      "cell_type": "code",
      "execution_count": null,
      "metadata": {
        "id": "cEQnE8IbRgEE"
      },
      "outputs": [],
      "source": [
        "import time"
      ]
    },
    {
      "cell_type": "code",
      "execution_count": null,
      "metadata": {
        "id": "D0YEmVFJRxdA"
      },
      "outputs": [],
      "source": [
        "def mergeSort(array):\n",
        "    if len(array) > 1:\n",
        "\n",
        "        r = len(array)//2\n",
        "        L = array[:r]\n",
        "        M = array[r:]\n",
        "\n",
        "        mergeSort(L)\n",
        "        mergeSort(M)\n",
        "\n",
        "        i = j = k = 0\n",
        "\n",
        "        while i < len(L) and j < len(M):\n",
        "            if L[i] < M[j]:\n",
        "                array[k] = L[i]\n",
        "                i += 1\n",
        "            else:\n",
        "                array[k] = M[j]\n",
        "                j += 1\n",
        "            k += 1\n",
        "\n",
        "        while i < len(L):\n",
        "            array[k] = L[i]\n",
        "            i += 1\n",
        "            k += 1\n",
        "\n",
        "        while j < len(M):\n",
        "            array[k] = M[j]\n",
        "            j += 1\n",
        "            k += 1"
      ]
    },
    {
      "cell_type": "code",
      "execution_count": null,
      "metadata": {
        "colab": {
          "base_uri": "https://localhost:8080/"
        },
        "id": "CJ4WHSm8SOo4",
        "outputId": "e0b5ea09-2661-45c0-9373-7bdb3f1b751f"
      },
      "outputs": [
        {
          "name": "stdout",
          "output_type": "stream",
          "text": [
            "Given Array\n",
            "[12, 7, 5, 1, 0, 4, 6]\n",
            "Sorted Array in Ascending Order:\n",
            "[0, 1, 4, 5, 6, 7, 12]\n",
            "Runtime of the program is 84.16175842285156 Microseconds\n"
          ]
        }
      ],
      "source": [
        "data = [12, 7, 5, 1, 0, 4, 6]\n",
        "print(\"Given Array\")\n",
        "print(data)\n",
        "\n",
        "start = time.time()\n",
        "mergeSort(data)\n",
        "end = time.time()\n",
        "\n",
        "print('Sorted Array in Ascending Order:')\n",
        "print(data)\n",
        "\n",
        "print(f\"Runtime of the program is {(end - start)*1000000} Microseconds\")"
      ]
    },
    {
      "cell_type": "markdown",
      "metadata": {
        "id": "mV1zdI-gS31a"
      },
      "source": [
        "## **QuickSort Algorithm | 21-01-2022 :**"
      ]
    },
    {
      "cell_type": "markdown",
      "metadata": {
        "id": "8pVaCKVSWyu_"
      },
      "source": [
        "### **Object: Write a program to perform sorting operations by divide and conquer (Quick Sort Algo) Also estimate and simulate the time taken on linear array data structure**"
      ]
    },
    {
      "cell_type": "code",
      "execution_count": null,
      "metadata": {
        "id": "Jfs2QJ7-San_"
      },
      "outputs": [],
      "source": [
        "# partition code\n",
        "def partition(arr, low, high):\n",
        "    i = (low-1)        \n",
        "    pivot = arr[high]    \n",
        " \n",
        "    for j in range(low, high):\n",
        " \n",
        "        if arr[j] <= pivot:\n",
        "            i = i+1\n",
        "            arr[i], arr[j] = arr[j], arr[i] # swap\n",
        " \n",
        "    arr[i+1], arr[high] = arr[high], arr[i+1] # swap\n",
        "    return (i+1)"
      ]
    },
    {
      "cell_type": "code",
      "execution_count": null,
      "metadata": {
        "id": "h45KPq6bSf1P"
      },
      "outputs": [],
      "source": [
        "# quick sort\n",
        "def quickSort(arr, low, high):\n",
        "    if len(arr) == 1:\n",
        "        return arr\n",
        "    if low < high:\n",
        "        pi = partition(arr, low, high)\n",
        "        quickSort(arr, low, pi-1)\n",
        "        quickSort(arr, pi+1, high)"
      ]
    },
    {
      "cell_type": "code",
      "execution_count": null,
      "metadata": {
        "colab": {
          "base_uri": "https://localhost:8080/"
        },
        "id": "UruD8QlgSlq2",
        "outputId": "99f1e5f3-3195-4e3a-fe43-6df94383936d"
      },
      "outputs": [
        {
          "name": "stdout",
          "output_type": "stream",
          "text": [
            "Given Array\n",
            "[12, 7, 5, 1, 0, 4, 6]\n",
            "Sorted Array in Ascending Order:\n",
            "[0, 1, 4, 5, 6, 7, 12]\n",
            "Runtime of the program is 120.87821960449219 Microseconds\n"
          ]
        }
      ],
      "source": [
        "data = [12, 7, 5, 1, 0, 4, 6]\n",
        "print(\"Given Array\")\n",
        "print(data)\n",
        "\n",
        "size = len(data)\n",
        "\n",
        "start = time.time()\n",
        "quickSort(data, 0, size - 1)\n",
        "end = time.time()\n",
        "\n",
        "print('Sorted Array in Ascending Order:')\n",
        "print(data)\n",
        "\n",
        "print(f\"Runtime of the program is {(end - start)*1000000} Microseconds\")"
      ]
    },
    {
      "cell_type": "markdown",
      "metadata": {
        "id": "CSMiqeg3D6XK"
      },
      "source": [
        "# **Huffman coding Algorithm | 28-01-2022 :**"
      ]
    },
    {
      "cell_type": "markdown",
      "metadata": {
        "id": "Go-sHvI3hbBt"
      },
      "source": [
        "### **Object : Write a program to implement the Huffman code data compression technique. Also, simulate the time taken by this programing on the given data set**"
      ]
    },
    {
      "cell_type": "code",
      "execution_count": null,
      "metadata": {
        "id": "AZK7hipTD84Y"
      },
      "outputs": [],
      "source": [
        "string = 'BCAADDDCCACACAC'"
      ]
    },
    {
      "cell_type": "code",
      "execution_count": null,
      "metadata": {
        "id": "1My1cVkbEEBl"
      },
      "outputs": [],
      "source": [
        "# Creating tree nodes\n",
        "class NodeTree(object):\n",
        "\n",
        "    def __init__(self, left=None, right=None):\n",
        "        self.left = left\n",
        "        self.right = right\n",
        "\n",
        "    def children(self):\n",
        "        return (self.left, self.right)\n",
        "\n",
        "    def nodes(self):\n",
        "        return (self.left, self.right) \n",
        "\n",
        "    def __str__(self):\n",
        "        return '%s_%s' % (self.left, self.right)"
      ]
    },
    {
      "cell_type": "code",
      "execution_count": null,
      "metadata": {
        "id": "iCA6l2yTEKc1"
      },
      "outputs": [],
      "source": [
        "# Main function implementing huffman coding\n",
        "def huffman_code_tree(node, left=True, binString=''):\n",
        "    if type(node) is str:\n",
        "        return {node: binString}\n",
        "    (l, r) = node.children()\n",
        "    d = dict()\n",
        "    d.update(huffman_code_tree(l, True, binString + '0'))\n",
        "    d.update(huffman_code_tree(r, False, binString + '1'))\n",
        "    return d"
      ]
    },
    {
      "cell_type": "code",
      "execution_count": null,
      "metadata": {
        "colab": {
          "base_uri": "https://localhost:8080/"
        },
        "id": "dqe8g0iZEPuJ",
        "outputId": "1ff6bc24-615b-47f4-d898-5b162e005082"
      },
      "outputs": [
        {
          "output_type": "stream",
          "name": "stdout",
          "text": [
            " Char | Huffman code \n",
            "----------------------\n",
            " 'C'  |           0\n",
            " 'A'  |          11\n",
            " 'D'  |         101\n",
            " 'B'  |         100\n",
            "Runtime of the program is 48.160552978515625 Microseconds\n"
          ]
        }
      ],
      "source": [
        "# Calculating frequency\n",
        "freq = {}\n",
        "for c in string:\n",
        "    if c in freq:\n",
        "        freq[c] += 1\n",
        "    else:\n",
        "        freq[c] = 1\n",
        "\n",
        "freq = sorted(freq.items(), key=lambda x: x[1], reverse=True)\n",
        "\n",
        "nodes = freq\n",
        "\n",
        "while len(nodes) > 1:\n",
        "    (key1, c1) = nodes[-1]\n",
        "    (key2, c2) = nodes[-2]\n",
        "    nodes = nodes[:-2]\n",
        "    node = NodeTree(key1, key2)\n",
        "    nodes.append((node, c1 + c2))\n",
        "\n",
        "    nodes = sorted(nodes, key=lambda x: x[1], reverse=True)\n",
        "\n",
        "start = time.time()\n",
        "huffmanCode = huffman_code_tree(nodes[0][0])\n",
        "end = time.time()\n",
        "\n",
        "print(' Char | Huffman code ')\n",
        "print('----------------------')\n",
        "for (char, frequency) in freq:\n",
        "    print(' %-4r |%12s' % (char, huffmanCode[char]))\n",
        "\n",
        "print(f\"Runtime of the program is {(end - start)*1000000} Microseconds\")"
      ]
    },
    {
      "cell_type": "markdown",
      "metadata": {
        "id": "sNtB4yfnPccH"
      },
      "source": [
        "#**Fractional Knapsack Problem | 04-02-2022**"
      ]
    },
    {
      "cell_type": "markdown",
      "metadata": {
        "id": "sr_yrCJQO3wP"
      },
      "source": [
        "### **Object: Write a program to implement fractional knapsack problem also estimate the time taken by the programing on the given data set**"
      ]
    },
    {
      "cell_type": "code",
      "execution_count": null,
      "metadata": {
        "colab": {
          "base_uri": "https://localhost:8080/"
        },
        "id": "jk3QLIL7WZbA",
        "outputId": "99239ace-d387-4ef3-b370-356a0f13feb8"
      },
      "outputs": [
        {
          "name": "stdout",
          "output_type": "stream",
          "text": [
            "The maximum value in Knapsack : 240.0\n",
            "Runtime of the program is 36.47804260253906 Microseconds\n"
          ]
        }
      ],
      "source": [
        "import time\n",
        "def fractional_knapsack(value, weight, capacity):\n",
        "   \n",
        "    index = list(range(len(value)))\n",
        "    \n",
        "    # contains ratios of values to weight\n",
        "    ratio = [v/w for v, w in zip(value, weight)]\n",
        "    \n",
        "    # index is sorted according to value-to-weight ratio in decreasing order\n",
        "    index.sort(key=lambda i: ratio[i], reverse=True)   \n",
        " \n",
        "    max_value = 0       #Knapsack value\n",
        "    for i in index:\n",
        "        if weight[i] <= capacity:\n",
        "            max_value += value[i]\n",
        "            capacity -= weight[i]\n",
        "        else:\n",
        "            max_value += value[i]*capacity/weight[i]\n",
        "            break\n",
        " \n",
        "    return max_value\n",
        "\n",
        "n = 4                           #No. of items\n",
        "value    = [60, 40, 100, 120]   #Value of the items\n",
        "weight   = [10, 40, 20, 30]     #Weight of the items\n",
        "capacity = 50                   #Maximum weight\n",
        " \n",
        "max_value = fractional_knapsack(value, weight, capacity)\n",
        "print('The maximum value in Knapsack :', max_value)\n",
        "\n",
        "start = time.time()\n",
        "max_value\n",
        "end = time.time()\n",
        "\n",
        "print(f\"Runtime of the program is {(end - start)*1000000} Microseconds\") "
      ]
    },
    {
      "cell_type": "markdown",
      "metadata": {
        "id": "CTV-eCmff0Tg"
      },
      "source": [
        "# **Kruskal's Algorithm | DATE:11-02-2022**"
      ]
    },
    {
      "cell_type": "markdown",
      "metadata": {
        "id": "cO2WKv-zP7ye"
      },
      "source": [
        "###**Object: Write a program to find out minimum spaning tree and their weight by kruskal algorithm and also calculate the time taken by the program on the graph dataset by using disjoint data structure**"
      ]
    },
    {
      "cell_type": "code",
      "execution_count": null,
      "metadata": {
        "id": "8r4anOdqRRYb"
      },
      "outputs": [],
      "source": [
        "import time\n",
        "class DisjointSet:\n",
        "    parent = {}\n",
        " \n",
        "    # perform MakeSet operation\n",
        "    def makeSet(self, n):\n",
        "        \n",
        "        for i in range(n):\n",
        "            self.parent[i] = i\n",
        " \n",
        "    \n",
        "    def find(self, k):\n",
        "        \n",
        "        if self.parent[k] == k:\n",
        "            return k\n",
        "\n",
        "        return self.find(self.parent[k])\n",
        " \n",
        "    # Perform Union of two subsets\n",
        "    def union(self, a, b):\n",
        "        x = self.find(a)\n",
        "        y = self.find(b)\n",
        " \n",
        "        self.parent[x] = y\n"
      ]
    },
    {
      "cell_type": "code",
      "execution_count": null,
      "metadata": {
        "id": "cs4YIr1njP1q"
      },
      "outputs": [],
      "source": [
        "#  MST using Kruskal’s algorithm\n",
        "def KruskalAlgorithm(edges, n):\n",
        " \n",
        "    # stores the edges present in MST\n",
        "    MST = []\n",
        "\n",
        "    ds = DisjointSet()\n",
        "    ds.makeSet(n)\n",
        " \n",
        "    index = 0\n",
        " \n",
        "    # sort edges by increasing weight\n",
        "    edges.sort(key=lambda x: x[2])\n",
        " \n",
        "    # MST contains exactly `V-1` edges\n",
        "    while len(MST) != n - 1:\n",
        " \n",
        "        # consider the next edge with minimum weight from the graph\n",
        "        (src, dest, weight) = edges[index]\n",
        "        index = index + 1\n",
        "\n",
        "        # vertices of the next edge belongs\n",
        "        x = ds.find(src)\n",
        "        y = ds.find(dest)\n",
        "        if x != y:\n",
        "            MST.append((src, dest, weight))\n",
        "            ds.union(x, y)\n",
        " \n",
        "    return MST\n",
        " \n",
        " "
      ]
    },
    {
      "cell_type": "code",
      "execution_count": null,
      "metadata": {
        "colab": {
          "base_uri": "https://localhost:8080/"
        },
        "id": "Mj5aP9Kei5Dy",
        "outputId": "30bcf2a6-4516-4032-e464-ad7a8506670e"
      },
      "outputs": [
        {
          "name": "stdout",
          "output_type": "stream",
          "text": [
            "Minimum Spanning tree edges: [(0, 3, 5), (2, 4, 5), (3, 5, 6), (0, 1, 7), (1, 4, 7), (4, 6, 9)]\n",
            "(0,3) = 5\n",
            "(2,4) = 5\n",
            "(3,5) = 6\n",
            "(0,1) = 7\n",
            "(1,4) = 7\n",
            "(4,6) = 9\n",
            "\n",
            " Minimum Spanning Tree: 39\n",
            "\n",
            " Runtime of the program is 41.484832763671875 Microseconds\n"
          ]
        }
      ],
      "source": [
        " edges = [\n",
        "        (0, 1, 7), (1, 2, 8), (0, 3, 5), (1, 3, 9), (1, 4, 7), (2, 4, 5),\n",
        "        (3, 4, 15), (3, 5, 6), (4, 5, 8), (4, 6, 9), (5, 6, 11)\n",
        "    ]\n",
        " \n",
        "    # total number of nodes in the graph (labelled from 0 to 6)\n",
        "n = 7\n",
        " \n",
        "    # construct graph\n",
        "result = KruskalAlgorithm(edges, n)\n",
        "\n",
        "print(\"Minimum Spanning tree edges:\", result)\n",
        "#Finding Minimum cost of the Spanning tree\n",
        "minimumcost = 0\n",
        "for u, v, weight in result :\n",
        "  minimumcost += weight\n",
        "  print(\"(%d,%d) = %d\" % (u, v, weight))\n",
        "print(\"\\n Minimum Spanning Tree:\" , minimumcost)\n",
        " \n",
        "\n",
        "start = time.time()\n",
        "result\n",
        "end = time.time()\n",
        "\n",
        "print(f\"\\n Runtime of the program is {(end - start)*1000000} Microseconds\") \n",
        "\n",
        " "
      ]
    },
    {
      "cell_type": "markdown",
      "metadata": {
        "id": "OHe-_FkPErZR"
      },
      "source": [
        "# **Prim's Algorithm | DATE: 18-02-2022**"
      ]
    },
    {
      "cell_type": "markdown",
      "metadata": {
        "id": "yM6eiy-EbsaU"
      },
      "source": [
        "### **Object: Implementation of Prim's Algorithm of Minimum Spanning Tree**"
      ]
    },
    {
      "cell_type": "code",
      "execution_count": null,
      "metadata": {
        "id": "ADWz07liNN46"
      },
      "outputs": [],
      "source": [
        "import sys\n",
        "import time"
      ]
    },
    {
      "cell_type": "code",
      "execution_count": null,
      "metadata": {
        "id": "owBZxW3yNz4s"
      },
      "outputs": [],
      "source": [
        "class Graph(): \n",
        "  \n",
        "    def __init__(self, vertices): \n",
        "        self.V = vertices   \n",
        "        self.graph = [[0 for column in range(vertices)]  \n",
        "                    for row in range(vertices)] \n",
        "\n",
        "    def printTree(self, parent): \n",
        "        print(\"Edge \\tWeight\")\n",
        "        for i in range(1, self.V): \n",
        "            print(parent[i], \"-\", i, \"\\t\", self.graph[i][ parent[i] ])\n",
        "\n",
        "    def min_Key(self, key, mstSet): \n",
        "         min = sys.maxsize\n",
        "  \n",
        "         for v in range(self.V): \n",
        "            if key[v] < min and mstSet[v] == False: \n",
        "                min = key[v] \n",
        "                min_index = v \n",
        "  \n",
        "         return min_index \n",
        "    def PrimMST(self): \n",
        "        result = []\n",
        "        key = [sys.maxsize] * self.V \n",
        "        parent = [None] * self.V \n",
        "        key[0] = 0\n",
        "        mstSet = [False] * self.V \n",
        "  \n",
        "        parent[0] = -1\n",
        "  \n",
        "        for cout in range(self.V):  \n",
        "            u = self.min_Key(key, mstSet)  \n",
        "            mstSet[u] = True\n",
        "            for v in range(self.V):  \n",
        "                if self.graph[u][v] > 0 and mstSet[v] == False and key[v] > self.graph[u][v]: \n",
        "                        key[v] = self.graph[u][v] \n",
        "                        parent[v] = u \n",
        "  \n",
        "        self.printTree(parent)"
      ]
    },
    {
      "cell_type": "code",
      "execution_count": null,
      "metadata": {
        "colab": {
          "base_uri": "https://localhost:8080/"
        },
        "id": "EU-Iqnz1n8c6",
        "outputId": "ba07bfbe-67b9-43b4-ada6-4d7b6a128d4e"
      },
      "outputs": [
        {
          "name": "stdout",
          "output_type": "stream",
          "text": [
            "Edge \tWeight\n",
            "2 - 1 \t 5\n",
            "0 - 2 \t 4\n",
            "1 - 3 \t 3\n",
            "3 - 4 \t 2\n",
            "\n",
            " Runtime of the program is 1597.1660614013672 Microseconds\n"
          ]
        }
      ],
      "source": [
        "g = Graph(5) \n",
        "g.graph = [ [0, 0, 4, 0, 0], \n",
        "            [0, 0, 5, 3, 0], \n",
        "            [4, 5, 0, 0, 0], \n",
        "            [0, 3, 0, 0, 2], \n",
        "            [0, 0, 0, 2, 0]]\n",
        "\n",
        "start = time.time()\n",
        "g.PrimMST()\n",
        "\n",
        "end = time.time()\n",
        "\n",
        "print(f\"\\n Runtime of the program is {(end - start)*1000000} Microseconds\")"
      ]
    },
    {
      "cell_type": "markdown",
      "metadata": {
        "id": "BlPbGuVmJvqZ"
      },
      "source": [
        "# **Dijkstra's Algorithm  | DATE: 25-02-2022**"
      ]
    },
    {
      "cell_type": "markdown",
      "metadata": {
        "id": "Rz0UWFsyI2Bp"
      },
      "source": [
        "###**Object: Implementation of the Dijkstra Algorithm**\n",
        "\n",
        "\n"
      ]
    },
    {
      "cell_type": "code",
      "execution_count": null,
      "metadata": {
        "id": "wSlmafsbNdrV"
      },
      "outputs": [],
      "source": [
        "import sys\n",
        "import time\n",
        "\n",
        "class Graph():\n",
        "\n",
        "\tdef __init__(self, vertices):\n",
        "\t\tself.V = vertices\n",
        "\t\tself.graph = [[0 for column in range(vertices)]\n",
        "\t\t\t\t\tfor row in range(vertices)]\n",
        "\n",
        "\tdef printSolution(self, dist):\n",
        "\t\tprint(\"Vertex \\tDistance from Source\")\n",
        "\t\tfor node in range(self.V):\n",
        "\t\t\tprint(node, \"\\t\", dist[node])\n",
        "\n",
        "\tdef minDistance(self, dist, sptSet):\n",
        "\t\tmin = sys.maxsize\n",
        "\t\tfor u in range(self.V):\n",
        "\t\t\tif dist[u] < min and sptSet[u] == False:\n",
        "\t\t\t\tmin = dist[u]\n",
        "\t\t\t\tmin_index = u\n",
        "\n",
        "\t\treturn min_index\n",
        "\n",
        "\t# using adjacency matrix representation\n",
        "\tdef dijkstra(self, src):\n",
        "\n",
        "\t\tdist = [sys.maxsize] * self.V\n",
        "\t\tdist[src] = 0\n",
        "\t\tsptSet = [False] * self.V\n",
        "\n",
        "\t\tfor cout in range(self.V):\n",
        "\t\t\tx = self.minDistance(dist, sptSet)\n",
        "\t \n",
        "\t\t\t# shortest path tree\n",
        "\t\t\tsptSet[x] = True\n",
        "\n",
        "\t\t\tfor y in range(self.V):\n",
        "\t\t\t\tif self.graph[x][y] > 0 and sptSet[y] == False and \\\n",
        "\t\t\t\tdist[y] > dist[x] + self.graph[x][y]:\n",
        "\t\t\t\t\t\tdist[y] = dist[x] + self.graph[x][y]\n",
        "\n",
        "\t\tself.printSolution(dist)"
      ]
    },
    {
      "cell_type": "code",
      "execution_count": null,
      "metadata": {
        "colab": {
          "base_uri": "https://localhost:8080/"
        },
        "id": "SyyJtODGON4U",
        "outputId": "dea87097-5d0d-481b-ce27-56fe2b92f7e4"
      },
      "outputs": [
        {
          "name": "stdout",
          "output_type": "stream",
          "text": [
            "Vertex \tDistance from Source\n",
            "0 \t 0\n",
            "1 \t 9\n",
            "2 \t 4\n",
            "3 \t 12\n",
            "4 \t 14\n",
            "\n",
            " Runtime of the program is 1187.5629425048828 Microseconds\n"
          ]
        }
      ],
      "source": [
        "# Driver program\n",
        "g = Graph(5) \n",
        "g.graph = [ [0, 0, 4, 0, 0], \n",
        "            [0, 0, 5, 3, 0], \n",
        "            [4, 5, 0, 0, 0], \n",
        "            [0, 3, 0, 0, 2], \n",
        "            [0, 0, 0, 2, 0]]\n",
        "\n",
        "start = time.time()\n",
        "g.dijkstra(0);\n",
        "\n",
        "end = time.time()\n",
        "\n",
        "print(f\"\\n Runtime of the program is {(end - start)*1000000} Microseconds\")\n"
      ]
    },
    {
      "cell_type": "markdown",
      "metadata": {
        "id": "4EvPeWJ0SnYV"
      },
      "source": [
        "# **Floyd Warshall Algorithm | DATE : 04-03-2022**"
      ]
    },
    {
      "cell_type": "markdown",
      "metadata": {
        "id": "X27KL9SGTeoE"
      },
      "source": [
        "###**Object: Implementation of the Floyd Warshall Algorithm**"
      ]
    },
    {
      "cell_type": "code",
      "execution_count": null,
      "metadata": {
        "id": "wkcHzvXHTbZD"
      },
      "outputs": [],
      "source": [
        "import time\n",
        "# The number of vertices\n",
        "V = 4\n",
        "\n",
        "INF = 999\n",
        "\n",
        "def floyd_warshall(G):\n",
        "    distance = list(map(lambda i: list(map(lambda j: j, i)), G))\n",
        "\n",
        "    for k in range(V):\n",
        "        for i in range(V):\n",
        "            for j in range(V):\n",
        "                distance[i][j] = min(distance[i][j], distance[i][k] + distance[k][j])\n",
        "    print_solution(distance)\n",
        "\n",
        "\n",
        "def print_solution(distance):\n",
        "    for i in range(V):\n",
        "        for j in range(V):\n",
        "            if(distance[i][j] == INF):\n",
        "                print(\"INF\", end=\" \")\n",
        "            else:\n",
        "                print(distance[i][j], end=\"  \")\n",
        "        print(\" \")"
      ]
    },
    {
      "cell_type": "code",
      "execution_count": null,
      "metadata": {
        "colab": {
          "base_uri": "https://localhost:8080/"
        },
        "id": "NfiCFSSBVeMm",
        "outputId": "96e2f268-1f7a-4850-a5d5-6dab2484e4d5"
      },
      "outputs": [
        {
          "name": "stdout",
          "output_type": "stream",
          "text": [
            "0  3  7  5   \n",
            "2  0  6  4   \n",
            "3  1  0  5   \n",
            "5  3  2  0   \n",
            "\n",
            " Runtime of the program is 7511.138916015625 Microseconds\n"
          ]
        }
      ],
      "source": [
        "G = [ [0, 3, INF, 5],\n",
        "      [2, 0, INF, 4],\n",
        "      [INF, 1, 0, INF],\n",
        "      [INF, INF, 2, 0]]\n",
        "\n",
        "start = time.time()\n",
        "floyd_warshall(G)\n",
        "\n",
        "end = time.time()\n",
        "\n",
        "print(f\"\\n Runtime of the program is {(end - start)*1000000} Microseconds\")"
      ]
    },
    {
      "cell_type": "markdown",
      "metadata": {
        "id": "ruo2ymgsYZzV"
      },
      "source": [
        "# **0\\1 KnapSack Problem | DATE: 11-03-2022**"
      ]
    },
    {
      "cell_type": "markdown",
      "metadata": {
        "id": "R32dqkszYwOA"
      },
      "source": [
        "###**Implementation of 0\\1 KnapSack Problem also estimate time taken**"
      ]
    },
    {
      "cell_type": "code",
      "execution_count": null,
      "metadata": {
        "id": "WW6Gizund6Mn"
      },
      "outputs": [],
      "source": [
        "def knapSack(W, wt, val, n): \n",
        "\n",
        "    if n == 0 or W == 0:\n",
        "        return 0\n",
        "\n",
        "    if (wt[n-1] > W): \n",
        "      \n",
        "        return knapSack(W, wt, val, n-1)\n",
        "    else: \n",
        "        return max(val[n-1] + knapSack(W-wt[n-1], wt, val, n-1), knapSack(W, wt, val, n-1)) "
      ]
    },
    {
      "cell_type": "code",
      "execution_count": null,
      "metadata": {
        "colab": {
          "base_uri": "https://localhost:8080/"
        },
        "id": "jkuPhTO9eClg",
        "outputId": "8d769ba1-afd5-44b0-f7ff-3ed609ba3997"
      },
      "outputs": [
        {
          "output_type": "stream",
          "name": "stdout",
          "text": [
            "knapSack value is : 350\n",
            "\n",
            " Runtime of the program is 3353.118896484375 Microseconds\n"
          ]
        }
      ],
      "source": [
        "#Driver Code \n",
        "\n",
        "val = [50,100,150,200]\n",
        "\n",
        "wt = [8,16,32,40]\n",
        "\n",
        "W = 64\n",
        "\n",
        "n = len(val) \n",
        "start = time.time()\n",
        "\n",
        "print (\"knapSack value is :\",knapSack(W, wt, val, n))\n",
        "\n",
        "end = time.time()\n",
        "\n",
        "print(f\"\\n Runtime of the program is {(end - start)*1000000} Microseconds\")"
      ]
    },
    {
      "cell_type": "markdown",
      "source": [
        "# **DFS Algorithm | DATE: 23-03-2022**"
      ],
      "metadata": {
        "id": "2PRwt4UWM3xE"
      }
    },
    {
      "cell_type": "markdown",
      "source": [
        "###**Implementation of DFS Algorithm**"
      ],
      "metadata": {
        "id": "vmgXa9wdNRkv"
      }
    },
    {
      "cell_type": "code",
      "source": [
        "import time"
      ],
      "metadata": {
        "id": "4hgpEP78xNT_"
      },
      "execution_count": null,
      "outputs": []
    },
    {
      "cell_type": "code",
      "source": [
        "def dfs(graph, start, visited=None):\n",
        "    if visited is None:\n",
        "        visited = set()\n",
        "    visited.add(start)\n",
        "\n",
        "    print(start)\n",
        "\n",
        "    for next in graph[start] - visited:\n",
        "        dfs(graph, next, visited)\n",
        "    return visited"
      ],
      "metadata": {
        "id": "x3QLsB0Ftm2q"
      },
      "execution_count": null,
      "outputs": []
    },
    {
      "cell_type": "code",
      "source": [
        "graph = {'0': set(['1', '2']),\n",
        "         '1': set(['0', '3', '4']),\n",
        "         '2': set(['0']),\n",
        "         '3': set(['1']),\n",
        "         '4': set(['2', '3'])}\n",
        "        \n",
        "print('DFS graph is shown')\n",
        "\n",
        "dfs(graph, '0')\n"
      ],
      "metadata": {
        "colab": {
          "base_uri": "https://localhost:8080/"
        },
        "id": "zwH3XCd9vJVV",
        "outputId": "198a7465-4c45-48d9-e6c0-7a827b29189a"
      },
      "execution_count": null,
      "outputs": [
        {
          "output_type": "stream",
          "name": "stdout",
          "text": [
            "DFS graph is shown\n",
            "0\n",
            "1\n",
            "3\n",
            "4\n",
            "2\n",
            "2\n"
          ]
        },
        {
          "output_type": "execute_result",
          "data": {
            "text/plain": [
              "{'0', '1', '2', '3', '4'}"
            ]
          },
          "metadata": {},
          "execution_count": 11
        }
      ]
    }
  ],
  "metadata": {
    "colab": {
      "collapsed_sections": [],
      "provenance": [],
      "include_colab_link": true
    },
    "kernelspec": {
      "display_name": "Python 3",
      "name": "python3"
    },
    "language_info": {
      "name": "python"
    }
  },
  "nbformat": 4,
  "nbformat_minor": 0
}